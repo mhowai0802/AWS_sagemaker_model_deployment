pip install -U sagemaker
from sagemaker.pytorch import PyTorchModel
from sagemaker import get_execution_role

pytorch_model = PyTorchModel(model_data='s3://sagemaker-pytorch-eye/model.tar.gz', role=role, entry_point='inference_multi.py', framework_version='1.10',py_version='py38')
predictor = pytorch_model.deploy(instance_type='ml.t2.medium', initial_instance_count=1)

pytorch_model = PyTorchModel(model_data='s3://sagemaker-pytorch-eye/model_bin.tar.gz', role=role, entry_point='inference_binary.py', framework_version='1.10',py_version='py38')
predictor = pytorch_model.deploy(instance_type='ml.t2.large', initial_instance_count=1)
